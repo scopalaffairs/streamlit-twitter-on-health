{
 "cells": [
  {
   "cell_type": "code",
   "execution_count": null,
   "id": "eb2de18c-f8e2-406b-9ecd-eef0e9777fed",
   "metadata": {
    "tags": []
   },
   "outputs": [],
   "source": [
    "!pip install contractions spacy tqdm deep-translator"
   ]
  },
  {
   "cell_type": "code",
   "execution_count": 5,
   "id": "3eaa63ca-b26f-4eab-843f-b1812ece85f5",
   "metadata": {
    "tags": []
   },
   "outputs": [],
   "source": [
    "import json\n",
    "import os\n",
    "import re\n",
    "import string\n",
    "\n",
    "import contractions\n",
    "import nltk\n",
    "import pandas as pd\n",
    "import spacy\n",
    "import text2emotion as te\n",
    "\n",
    "from deep_translator import GoogleTranslator as Translator\n",
    "from nltk.corpus import stopwords\n",
    "from nltk.probability import FreqDist"
   ]
  },
  {
   "cell_type": "code",
   "execution_count": 6,
   "id": "579b98af-fc07-4802-bb5e-38fc69303115",
   "metadata": {
    "tags": []
   },
   "outputs": [
    {
     "name": "stderr",
     "output_type": "stream",
     "text": [
      "[nltk_data] Downloading package punkt to /Users/mother/nltk_data...\n",
      "[nltk_data]   Package punkt is already up-to-date!\n"
     ]
    },
    {
     "data": {
      "text/plain": [
       "True"
      ]
     },
     "execution_count": 6,
     "metadata": {},
     "output_type": "execute_result"
    }
   ],
   "source": [
    "nltk.download('punkt')"
   ]
  },
  {
   "cell_type": "code",
   "execution_count": 7,
   "id": "65b5d96c-1da1-452d-91ea-98fa95bc9c62",
   "metadata": {
    "tags": []
   },
   "outputs": [
    {
     "name": "stderr",
     "output_type": "stream",
     "text": [
      "[nltk_data] Downloading package stopwords to\n",
      "[nltk_data]     /Users/mother/nltk_data...\n",
      "[nltk_data]   Package stopwords is already up-to-date!\n"
     ]
    },
    {
     "data": {
      "text/plain": [
       "True"
      ]
     },
     "execution_count": 7,
     "metadata": {},
     "output_type": "execute_result"
    }
   ],
   "source": [
    "nltk.download('stopwords')"
   ]
  },
  {
   "cell_type": "code",
   "execution_count": 8,
   "id": "a18ba681-8ea2-417b-8604-6660b98b32fe",
   "metadata": {
    "tags": []
   },
   "outputs": [
    {
     "name": "stderr",
     "output_type": "stream",
     "text": [
      "[nltk_data] Downloading package vader_lexicon to\n",
      "[nltk_data]     /Users/mother/nltk_data...\n",
      "[nltk_data]   Package vader_lexicon is already up-to-date!\n"
     ]
    },
    {
     "data": {
      "text/plain": [
       "True"
      ]
     },
     "execution_count": 8,
     "metadata": {},
     "output_type": "execute_result"
    }
   ],
   "source": [
    "nltk.download('vader_lexicon')"
   ]
  },
  {
   "cell_type": "code",
   "execution_count": 9,
   "id": "8164ad97-46a3-4670-902a-7844c9951fa7",
   "metadata": {
    "tags": []
   },
   "outputs": [],
   "source": [
    "pd.set_option('display.max_columns', None)"
   ]
  },
  {
   "cell_type": "markdown",
   "id": "9c771d88-929c-4d1d-9c5a-09038563664b",
   "metadata": {
    "tags": []
   },
   "source": [
    "# Sentiment Analysis"
   ]
  },
  {
   "cell_type": "code",
   "execution_count": 10,
   "id": "5920bbed-4b0f-4be0-83cf-67be2318d0c7",
   "metadata": {
    "tags": []
   },
   "outputs": [],
   "source": [
    "# Read from files\n",
    "json_dir = './data-cleaned/' # later change this to data-cleaned, because there is the actual data (not sampled)\n",
    "\n",
    "df_dict = {}\n",
    "for root, dirs, files in os.walk(json_dir):\n",
    "    for file_name in files:\n",
    "        if file_name.endswith('.json'):\n",
    "            file_path = os.path.join(root, file_name)\n",
    "            name = os.path.splitext(file_name)[0]\n",
    "            df_dict[name] = pd.read_json(path_or_buf=file_path, lines=True)"
   ]
  },
  {
   "cell_type": "code",
   "execution_count": 11,
   "id": "bf1b3a92-1801-486a-bff2-c2682c7d757c",
   "metadata": {
    "tags": []
   },
   "outputs": [],
   "source": [
    "#df_dict"
   ]
  },
  {
   "cell_type": "code",
   "execution_count": 12,
   "id": "39e3745d-187a-488f-986e-1a58bda4e1f9",
   "metadata": {
    "tags": []
   },
   "outputs": [],
   "source": [
    "additional_stopwords = [\n",
    "    \"https\",\n",
    "    \"de\",\n",
    "    \"la\",\n",
    "    \"‚Äô\",\n",
    "    \"amp\",\n",
    "    \"...\",\n",
    "    \"``\",\n",
    "    \"''\",\n",
    "    \"'s\",\n",
    "    \"der\",\n",
    "    \"Doctor\",\n",
    "    \"en\",\n",
    "    \"que\",\n",
    "    \"Worlds\",\n",
    "    \"Marburg\",\n",
    "    \"health\",\n",
    "    \"Health\",\n",
    "    \"world\",\n",
    "    \"Worlds\",\n",
    "    \"die\",\n",
    "    \"und\",\n",
    "    \"doctorwho-worldsapart.com/r/4608/\",\n",
    "]"
   ]
  },
  {
   "cell_type": "code",
   "execution_count": 13,
   "id": "d5920a3c-bbfc-432a-9642-4afa9ba1680d",
   "metadata": {},
   "outputs": [
    {
     "ename": "NameError",
     "evalue": "name 'df' is not defined",
     "output_type": "error",
     "traceback": [
      "\u001b[0;31m---------------------------------------------------------------------------\u001b[0m",
      "\u001b[0;31mNameError\u001b[0m                                 Traceback (most recent call last)",
      "Cell \u001b[0;32mIn[13], line 2\u001b[0m\n\u001b[1;32m      1\u001b[0m \u001b[38;5;66;03m# make this iterable for all dfs, else skipppp\u001b[39;00m\n\u001b[0;32m----> 2\u001b[0m all_words \u001b[38;5;241m=\u001b[39m [word \u001b[38;5;28;01mfor\u001b[39;00m tokens \u001b[38;5;129;01min\u001b[39;00m \u001b[43mdf\u001b[49m[\u001b[38;5;124m'\u001b[39m\u001b[38;5;124mtokens\u001b[39m\u001b[38;5;124m'\u001b[39m] \u001b[38;5;28;01mfor\u001b[39;00m word \u001b[38;5;129;01min\u001b[39;00m tokens]\n\u001b[1;32m      3\u001b[0m stop_words \u001b[38;5;241m=\u001b[39m \u001b[38;5;28mset\u001b[39m(stopwords\u001b[38;5;241m.\u001b[39mwords(\u001b[38;5;124m'\u001b[39m\u001b[38;5;124menglish\u001b[39m\u001b[38;5;124m'\u001b[39m))\n\u001b[1;32m      4\u001b[0m filtered_words \u001b[38;5;241m=\u001b[39m [word \u001b[38;5;28;01mfor\u001b[39;00m word \u001b[38;5;129;01min\u001b[39;00m all_words \u001b[38;5;28;01mif\u001b[39;00m word\u001b[38;5;241m.\u001b[39mlower() \u001b[38;5;129;01mnot\u001b[39;00m \u001b[38;5;129;01min\u001b[39;00m stop_words]\n",
      "\u001b[0;31mNameError\u001b[0m: name 'df' is not defined"
     ]
    }
   ],
   "source": [
    "# make this iterable for all dfs, else skipppp\n",
    "all_words = [word for tokens in df['tokens'] for word in tokens]\n",
    "stop_words = set(stopwords.words('english'))\n",
    "filtered_words = [word for word in all_words if word.lower() not in stop_words]\n",
    "tokens_without_punctuation = [token for token in filtered_words if token not in string.punctuation]\n",
    "filtered_words = [word for word in tokens_without_punctuation if word.lower() not in additional_stopwords]\n",
    "filtered_freq_dist = FreqDist(filtered_words)"
   ]
  },
  {
   "cell_type": "code",
   "execution_count": null,
   "id": "119e1c29-1dd5-4406-8871-201e4351ef31",
   "metadata": {
    "tags": []
   },
   "outputs": [],
   "source": [
    "# Blow out some freqDist Charts other than WordClouds"
   ]
  },
  {
   "cell_type": "markdown",
   "id": "629e2c1e-9e55-45af-a592-4b64c35ccd8c",
   "metadata": {
    "tags": []
   },
   "source": [
    "# Classify emotions"
   ]
  },
  {
   "cell_type": "code",
   "execution_count": 14,
   "id": "ff078558-2340-44d6-816a-4f762d31d583",
   "metadata": {},
   "outputs": [],
   "source": [
    "def analyse_emotion(text):\n",
    "    return te.get_emotion(text)\n",
    "\n",
    "# df[\"analyseEmotion\"] = df[\"translatedContent\"].apply(analyse_emotion)"
   ]
  },
  {
   "cell_type": "code",
   "execution_count": 15,
   "id": "263b2868-7df9-4f0e-9e27-4b93de6717ca",
   "metadata": {
    "tags": []
   },
   "outputs": [
    {
     "name": "stdout",
     "output_type": "stream",
     "text": [
      "Currently working on: processed_tw_hshtag_covid19\n",
      "Currently working on: processed_tw_hshtag_monkeypox\n"
     ]
    }
   ],
   "source": [
    "for frame in df_dict:\n",
    "    print(f\"Currently working on: {frame}\")\n",
    "    df_dict[frame].fillna(value='', inplace=True)\n",
    "    \n",
    "    # Convert column to string type\n",
    "    df_dict[frame][\"analyseEmotion\"] = df_dict[frame][\"cleanedContent\"].astype(str)\n",
    "\n",
    "    # Classify the dataframe\n",
    "    df_dict[frame][\"analyseEmotion\"] = df_dict[frame][\"cleanedContent\"].apply(\n",
    "        analyse_emotion\n",
    "    )\n",
    "    df_dict[frame][\"location\"] = df_dict[frame].user.apply(lambda x: x[\"location\"])\n",
    "\n",
    "    # Save to files # insert a condition to check, if file exists\n",
    "    df_dict[frame].to_json(\n",
    "        f\"./data-emotions/processed_{frame}.json\", orient=\"records\", lines=True\n",
    "    )"
   ]
  },
  {
   "cell_type": "code",
   "execution_count": 16,
   "id": "15f01e78-764e-468d-88a4-4c555b1aab6d",
   "metadata": {
    "tags": []
   },
   "outputs": [
    {
     "data": {
      "text/plain": [
       "'processed_tw_hshtag_monkeypox'"
      ]
     },
     "execution_count": 16,
     "metadata": {},
     "output_type": "execute_result"
    }
   ],
   "source": [
    "frame"
   ]
  },
  {
   "cell_type": "code",
   "execution_count": null,
   "id": "2edcf2cd-cd0a-4b97-95e5-da4117acd6e4",
   "metadata": {
    "tags": []
   },
   "outputs": [],
   "source": [
    "df_dict[frame][\"location\"]"
   ]
  },
  {
   "cell_type": "code",
   "execution_count": null,
   "id": "12f67aee-142b-4e75-b5e7-29d7708377a1",
   "metadata": {},
   "outputs": [],
   "source": [
    "df_dict[frame][\"location\"].value_counts()"
   ]
  }
 ],
 "metadata": {
  "kernelspec": {
   "display_name": "Python 3 (ipykernel)",
   "language": "python",
   "name": "python3"
  },
  "language_info": {
   "codemirror_mode": {
    "name": "ipython",
    "version": 3
   },
   "file_extension": ".py",
   "mimetype": "text/x-python",
   "name": "python",
   "nbconvert_exporter": "python",
   "pygments_lexer": "ipython3",
   "version": "3.11.0"
  }
 },
 "nbformat": 4,
 "nbformat_minor": 5
}
